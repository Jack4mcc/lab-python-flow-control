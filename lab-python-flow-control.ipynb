{
 "cells": [
  {
   "cell_type": "code",
   "execution_count": null,
   "id": "5a318735-f5db-46a4-b174-62950cd2ed42",
   "metadata": {},
   "outputs": [],
   "source": [
    "#Instead of asking the user to input the name of three products that a customer wants to order, do the following:\n",
    "\n",
    "#a. Prompt the user to enter the name of a product that a customer wants to order.\n",
    "\n",
    "#b. Add the product name to the \"customer_orders\" set.\n",
    "\n",
    "#c. Ask the user if they want to add another product (yes/no).\n",
    "\n",
    "#d. Continue the loop until the user does not want to add another product."
   ]
  },
  {
   "cell_type": "code",
   "execution_count": 115,
   "id": "a40269dd-23e5-4773-8bbd-b59ebcd69f45",
   "metadata": {},
   "outputs": [],
   "source": [
    "customer_orders = set()"
   ]
  },
  {
   "cell_type": "code",
   "execution_count": 117,
   "id": "af360f52-0d82-4b88-a4f2-5ae70b11898e",
   "metadata": {},
   "outputs": [],
   "source": [
    "product = [\"t-shirt\", \"mug\", \"hat\", \"book\", \"keychain\"]"
   ]
  },
  {
   "cell_type": "code",
   "execution_count": 121,
   "id": "7bcbfc63-86ad-4408-a257-5394ebd980bc",
   "metadata": {},
   "outputs": [
    {
     "name": "stdin",
     "output_type": "stream",
     "text": [
      "What would you like to order:  mug\n",
      "Would you like to add another product? (yes/no):  no\n"
     ]
    },
    {
     "name": "stdout",
     "output_type": "stream",
     "text": [
      "Customer Orders: \n",
      "{'mug'}\n"
     ]
    }
   ],
   "source": [
    "while True:\n",
    "    product = input(\"What would you like to order: \")\n",
    "    customer_orders.add(product)\n",
    "    add_another_product = input(\"Would you like to add another product? (yes/no): \").lower()\n",
    "    if add_another_product != \"yes\":\n",
    "        break\n",
    "\n",
    "print(\"Customer Orders: \")\n",
    "print(customer_orders)"
   ]
  },
  {
   "cell_type": "code",
   "execution_count": null,
   "id": "faf4d483-fbba-44bd-82c1-6b77252bc862",
   "metadata": {},
   "outputs": [],
   "source": []
  }
 ],
 "metadata": {
  "kernelspec": {
   "display_name": "Python 3 (ipykernel)",
   "language": "python",
   "name": "python3"
  },
  "language_info": {
   "codemirror_mode": {
    "name": "ipython",
    "version": 3
   },
   "file_extension": ".py",
   "mimetype": "text/x-python",
   "name": "python",
   "nbconvert_exporter": "python",
   "pygments_lexer": "ipython3",
   "version": "3.12.7"
  }
 },
 "nbformat": 4,
 "nbformat_minor": 5
}
